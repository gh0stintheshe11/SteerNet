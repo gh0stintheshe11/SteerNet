{
 "cells": [
  {
   "cell_type": "code",
   "execution_count": 1,
   "metadata": {},
   "outputs": [
    {
     "name": "stdout",
     "output_type": "stream",
     "text": [
      "Number of frames: 1197\n",
      "Number of steering measurements: 4973\n",
      "\n",
      "Frame time range: 9314.09 to 9374.04\n",
      "Steering time range: 9314.16 to 9374.15\n",
      "\n",
      "Sync Statistics:\n",
      "Average time difference: 4.31 ms\n",
      "Max time difference: 65.34 ms\n",
      "\n",
      "Synchronized data saved to 'synced_steering_data.csv'\n"
     ]
    }
   ],
   "source": [
    "import av\n",
    "import numpy as np\n",
    "import pandas as pd\n",
    "\n",
    "def sync_video_and_steering(example_segment):\n",
    "    \"\"\"\n",
    "    Sync video frames with steering angle data\n",
    "    \"\"\"\n",
    "    # Load steering data\n",
    "    steering_times = np.load(example_segment + 'processed_log/CAN/steering_angle/t')\n",
    "    steering_angles = np.load(example_segment + 'processed_log/CAN/steering_angle/value')\n",
    "    \n",
    "    # Load frame times\n",
    "    frame_times = np.load(example_segment + 'global_pose/frame_times')\n",
    "    \n",
    "    print(f\"Number of frames: {len(frame_times)}\")\n",
    "    print(f\"Number of steering measurements: {len(steering_times)}\")\n",
    "    print(f\"\\nFrame time range: {frame_times[0]:.2f} to {frame_times[-1]:.2f}\")\n",
    "    print(f\"Steering time range: {steering_times[0]:.2f} to {steering_times[-1]:.2f}\")\n",
    "    \n",
    "    # Create a list to store synchronized data\n",
    "    synced_data = []\n",
    "    \n",
    "    # For each frame time, find the closest steering angle measurement\n",
    "    for frame_idx, frame_time in enumerate(frame_times):\n",
    "        # Find the closest steering measurement\n",
    "        closest_idx = np.argmin(np.abs(steering_times - frame_time))\n",
    "        \n",
    "        synced_data.append({\n",
    "            'frame_idx': frame_idx,\n",
    "            'frame_time': frame_time,\n",
    "            'steering_time': steering_times[closest_idx],\n",
    "            'steering_angle': steering_angles[closest_idx],\n",
    "            'time_diff': abs(frame_time - steering_times[closest_idx])\n",
    "        })\n",
    "    \n",
    "    # Convert to DataFrame\n",
    "    df = pd.DataFrame(synced_data)\n",
    "    \n",
    "    print(\"\\nSync Statistics:\")\n",
    "    print(f\"Average time difference: {df['time_diff'].mean()*1000:.2f} ms\")\n",
    "    print(f\"Max time difference: {df['time_diff'].max()*1000:.2f} ms\")\n",
    "    \n",
    "    # Save synchronized data\n",
    "    df.to_csv('synced_steering_data.csv', index=False)\n",
    "    print(\"\\nSynchronized data saved to 'synced_steering_data.csv'\")\n",
    "    \n",
    "    return df\n",
    "\n",
    "if __name__ == \"__main__\":\n",
    "    example_segment = 'data/comma2k19/extracted/Chunk_1/b0c9d2329ad1606b|2018-07-27--06-03-57/3/'\n",
    "    df = sync_video_and_steering(example_segment)"
   ]
  }
 ],
 "metadata": {
  "kernelspec": {
   "display_name": "Python 3",
   "language": "python",
   "name": "python3"
  },
  "language_info": {
   "codemirror_mode": {
    "name": "ipython",
    "version": 3
   },
   "file_extension": ".py",
   "mimetype": "text/x-python",
   "name": "python",
   "nbconvert_exporter": "python",
   "pygments_lexer": "ipython3",
   "version": "3.11.11"
  }
 },
 "nbformat": 4,
 "nbformat_minor": 2
}
